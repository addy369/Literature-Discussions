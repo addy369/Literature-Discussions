{
 "cells": [
  {
   "cell_type": "code",
   "execution_count": 38,
   "metadata": {},
   "outputs": [],
   "source": [
    "import numpy as np"
   ]
  },
  {
   "cell_type": "code",
   "execution_count": 80,
   "metadata": {},
   "outputs": [],
   "source": [
    "import keras\n",
    "from keras.layers import Conv2D,MaxPooling2D\n",
    "from keras.preprocessing.image import ImageDataGenerator\n",
    "from keras.models import Sequential\n",
    "from keras.layers import Dense,Flatten,Activation,Dropout\n",
    "from keras import backend as K\n",
    "from keras.layers.normalization import BatchNormalization\n"
   ]
  },
  {
   "cell_type": "code",
   "execution_count": 81,
   "metadata": {},
   "outputs": [],
   "source": [
    "image_height, image_width =227,227"
   ]
  },
  {
   "cell_type": "code",
   "execution_count": 91,
   "metadata": {},
   "outputs": [
    {
     "name": "stdout",
     "output_type": "stream",
     "text": [
      "_________________________________________________________________\n",
      "Layer (type)                 Output Shape              Param #   \n",
      "=================================================================\n",
      "conv2d_107 (Conv2D)          (None, 55, 55, 96)        34944     \n",
      "_________________________________________________________________\n",
      "activation_127 (Activation)  (None, 55, 55, 96)        0         \n",
      "_________________________________________________________________\n",
      "max_pooling2d_63 (MaxPooling (None, 27, 27, 96)        0         \n",
      "_________________________________________________________________\n",
      "batch_normalization_11 (Batc (None, 27, 27, 96)        384       \n",
      "_________________________________________________________________\n",
      "conv2d_108 (Conv2D)          (None, 27, 27, 256)       614656    \n",
      "_________________________________________________________________\n",
      "activation_128 (Activation)  (None, 27, 27, 256)       0         \n",
      "_________________________________________________________________\n",
      "max_pooling2d_64 (MaxPooling (None, 13, 13, 256)       0         \n",
      "_________________________________________________________________\n",
      "batch_normalization_12 (Batc (None, 13, 13, 256)       1024      \n",
      "_________________________________________________________________\n",
      "conv2d_109 (Conv2D)          (None, 13, 13, 384)       885120    \n",
      "_________________________________________________________________\n",
      "activation_129 (Activation)  (None, 13, 13, 384)       0         \n",
      "_________________________________________________________________\n",
      "conv2d_110 (Conv2D)          (None, 13, 13, 384)       1327488   \n",
      "_________________________________________________________________\n",
      "activation_130 (Activation)  (None, 13, 13, 384)       0         \n",
      "_________________________________________________________________\n",
      "conv2d_111 (Conv2D)          (None, 13, 13, 256)       884992    \n",
      "_________________________________________________________________\n",
      "activation_131 (Activation)  (None, 13, 13, 256)       0         \n",
      "_________________________________________________________________\n",
      "max_pooling2d_65 (MaxPooling (None, 6, 6, 256)         0         \n",
      "_________________________________________________________________\n",
      "dropout_48 (Dropout)         (None, 6, 6, 256)         0         \n",
      "_________________________________________________________________\n",
      "flatten_17 (Flatten)         (None, 9216)              0         \n",
      "_________________________________________________________________\n",
      "dense_48 (Dense)             (None, 4096)              37752832  \n",
      "_________________________________________________________________\n",
      "activation_132 (Activation)  (None, 4096)              0         \n",
      "_________________________________________________________________\n",
      "dropout_49 (Dropout)         (None, 4096)              0         \n",
      "_________________________________________________________________\n",
      "dense_49 (Dense)             (None, 4096)              16781312  \n",
      "_________________________________________________________________\n",
      "activation_133 (Activation)  (None, 4096)              0         \n",
      "_________________________________________________________________\n",
      "dropout_50 (Dropout)         (None, 4096)              0         \n",
      "_________________________________________________________________\n",
      "dense_50 (Dense)             (None, 1000)              4097000   \n",
      "=================================================================\n",
      "Total params: 62,379,752\n",
      "Trainable params: 62,379,048\n",
      "Non-trainable params: 704\n",
      "_________________________________________________________________\n"
     ]
    }
   ],
   "source": [
    "model=Sequential()\n",
    "model.add(Conv2D(96,(11,11),strides=(4,4),padding='valid',input_shape=(227,227,3)))\n",
    "model.add(Activation('relu'))\n",
    "model.add(MaxPooling2D(pool_size=(3,3),strides=(2,2)))\n",
    "model.add(BatchNormalization())\n",
    "\n",
    "model.add(Conv2D(256,(5,5),strides=(1,1),padding='same'))\n",
    "model.add(Activation('relu'))\n",
    "model.add(MaxPooling2D(pool_size=(2,2),strides=(2,2)))\n",
    "model.add(BatchNormalization())\n",
    "model.add(Conv2D(384,(3,3),padding='same'))\n",
    "model.add(Activation('relu'))\n",
    "model.add(Conv2D(384,(3,3),padding='same'))\n",
    "model.add(Activation('relu'))\n",
    "model.add(Conv2D(256,(3,3),padding='same'))\n",
    "model.add(Activation('relu'))\n",
    "model.add(MaxPooling2D(pool_size=(3,3),strides=(2,2)))\n",
    "\n",
    "model.add(Dropout(0.5))\n",
    "model.add(Flatten())\n",
    "model.add(Dense(4096))\n",
    "model.add(Activation('relu'))\n",
    "\n",
    "\n",
    "model.add(Dropout(0.5))\n",
    "model.add(Dense(4096))\n",
    "model.add(Activation('relu'))\n",
    "model.add(Dropout(0.5))\n",
    "model.add(Dense((1000),activation='softmax'))\n",
    "model.summary()\n"
   ]
  },
  {
   "cell_type": "code",
   "execution_count": null,
   "metadata": {},
   "outputs": [],
   "source": [
    "model.compile(loss='categorical_crossentropy', optimizer='adam', metrics=['accuracy'])"
   ]
  },
  {
   "cell_type": "code",
   "execution_count": 85,
   "metadata": {},
   "outputs": [
    {
     "name": "stdout",
     "output_type": "stream",
     "text": [
      "Train on 1088 samples, validate on 272 samples\n",
      "Epoch 1/1\n",
      "1088/1088 [==============================] - 269s 248ms/step - loss: 14.5060 - acc: 0.0561 - val_loss: 15.1700 - val_acc: 0.0588\n"
     ]
    },
    {
     "data": {
      "text/plain": [
       "<keras.callbacks.History at 0x21c523c99b0>"
      ]
     },
     "execution_count": 85,
     "metadata": {},
     "output_type": "execute_result"
    }
   ],
   "source": [
    "model.fit(x, y, batch_size=64, epochs=1,validation_split=0.2)"
   ]
  },
  {
   "cell_type": "code",
   "execution_count": null,
   "metadata": {},
   "outputs": [],
   "source": []
  }
 ],
 "metadata": {
  "kernelspec": {
   "display_name": "Python 3",
   "language": "python",
   "name": "python3"
  },
  "language_info": {
   "codemirror_mode": {
    "name": "ipython",
    "version": 3
   },
   "file_extension": ".py",
   "mimetype": "text/x-python",
   "name": "python",
   "nbconvert_exporter": "python",
   "pygments_lexer": "ipython3",
   "version": "3.6.6"
  }
 },
 "nbformat": 4,
 "nbformat_minor": 2
}
